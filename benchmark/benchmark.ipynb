{
 "cells": [
  {
   "cell_type": "code",
   "execution_count": 1,
   "id": "59fcdfaf",
   "metadata": {},
   "outputs": [],
   "source": [
    "import cv2\n",
    "import numpy as np\n",
    "from sklearn.datasets import fetch_lfw_pairs\n",
    "from faceverification import get_default_face_verificator\n",
    "from faceverification.exceptions import FaceVerificationError\n",
    "from matplotlib import pyplot as plt"
   ]
  },
  {
   "cell_type": "code",
   "execution_count": 2,
   "id": "6febe82a",
   "metadata": {},
   "outputs": [],
   "source": [
    "lfw_pairs = fetch_lfw_pairs(subset='test', \n",
    "                            color=True, \n",
    "                            funneled=False, \n",
    "                            data_home='./benchmark/', \n",
    "                            slice_=None, \n",
    "                            resize=None)"
   ]
  },
  {
   "cell_type": "code",
   "execution_count": 3,
   "id": "37f4d0a8",
   "metadata": {},
   "outputs": [],
   "source": [
    "face_verificator = get_default_face_verificator()"
   ]
  },
  {
   "cell_type": "code",
   "execution_count": 4,
   "id": "1dc6ea00",
   "metadata": {},
   "outputs": [
    {
     "name": "stderr",
     "output_type": "stream",
     "text": [
      "/Users/iavdonin/Library/Caches/pypoetry/virtualenvs/faceverification-woOkVGb8-py3.9/lib/python3.9/site-packages/torch/nn/functional.py:780: UserWarning: Note that order of the arguments: ceil_mode and return_indices will changeto match the args list in nn.MaxPool2d in a future release.\n",
      "  warnings.warn(\"Note that order of the arguments: ceil_mode and return_indices will change\"\n"
     ]
    }
   ],
   "source": [
    "results = []\n",
    "for entry, target in zip(lfw_pairs.pairs, lfw_pairs.target):\n",
    "    im1 = cv2.cvtColor(entry[0], cv2.COLOR_RGB2BGR)\n",
    "    im2 = cv2.cvtColor(entry[1], cv2.COLOR_RGB2BGR)\n",
    "    im1 = (im1 * 255).round().astype(np.uint8)\n",
    "    im2 = (im2 * 255).round().astype(np.uint8)\n",
    "    _, im1 = cv2.imencode(\".png\", im1)\n",
    "    _, im2 = cv2.imencode(\".png\", im2)\n",
    "    im1 = im1.tobytes()\n",
    "    im2 = im2.tobytes()\n",
    "    try:\n",
    "        is_verified, distance = face_verificator.verify(im1, im2)\n",
    "    except FaceVerificationError:\n",
    "        continue\n",
    "    except cv2.error:\n",
    "        continue\n",
    "    results.append((is_verified, bool(target)))"
   ]
  },
  {
   "cell_type": "code",
   "execution_count": 5,
   "id": "a1a1500d",
   "metadata": {},
   "outputs": [],
   "source": [
    "results = np.array(results)"
   ]
  },
  {
   "cell_type": "code",
   "execution_count": 6,
   "id": "7de21dc9",
   "metadata": {},
   "outputs": [],
   "source": [
    "pred = results[:, 0]\n",
    "target = results[:, 1]"
   ]
  },
  {
   "cell_type": "code",
   "execution_count": 7,
   "id": "25d31256",
   "metadata": {},
   "outputs": [],
   "source": [
    "ta = (pred[pred] == target[pred]).sum()\n",
    "tr = (pred[~pred] == target[~pred]).sum()\n",
    "fa = (pred[pred] != target[pred]).sum()\n",
    "fr = (pred[~pred] != target[~pred]).sum()"
   ]
  },
  {
   "cell_type": "code",
   "execution_count": 8,
   "id": "6e39d2f8",
   "metadata": {},
   "outputs": [],
   "source": [
    "acc = (ta + tr) / (ta + tr + fa + fr)\n",
    "far = fa / (ta + fa)\n",
    "frr = fr / (tr + fr)"
   ]
  },
  {
   "cell_type": "code",
   "execution_count": 10,
   "id": "67eb820d",
   "metadata": {},
   "outputs": [
    {
     "data": {
      "text/plain": [
       "(0.97875, 0.0078125, 0.03365384615384615)"
      ]
     },
     "execution_count": 10,
     "metadata": {},
     "output_type": "execute_result"
    }
   ],
   "source": [
    "acc, far, frr"
   ]
  },
  {
   "cell_type": "code",
   "execution_count": null,
   "id": "bd0c9957",
   "metadata": {},
   "outputs": [],
   "source": []
  }
 ],
 "metadata": {
  "kernelspec": {
   "display_name": "Python 3 (ipykernel)",
   "language": "python",
   "name": "python3"
  },
  "language_info": {
   "codemirror_mode": {
    "name": "ipython",
    "version": 3
   },
   "file_extension": ".py",
   "mimetype": "text/x-python",
   "name": "python",
   "nbconvert_exporter": "python",
   "pygments_lexer": "ipython3",
   "version": "3.9.12"
  }
 },
 "nbformat": 4,
 "nbformat_minor": 5
}
